{
 "cells": [
  {
   "cell_type": "code",
   "execution_count": null,
   "id": "320872c7",
   "metadata": {},
   "outputs": [],
   "source": [
    "import pandas as pd"
   ]
  },
  {
   "cell_type": "code",
   "execution_count": null,
   "id": "be122c45",
   "metadata": {},
   "outputs": [],
   "source": [
    "main_table = pd.read_excel(r'C:\\Users\\XXX\\excel_file_name.xlsx')"
   ]
  },
  {
   "cell_type": "code",
   "execution_count": null,
   "id": "aba2c1e3",
   "metadata": {},
   "outputs": [],
   "source": [
    "import sqlalchemy\n",
    "engine = sqlalchemy.create_engine(r'sqlite:///C:\\Users\\XXX\\XXX\\XXX\\pandas_database.db')\n",
    "\n",
    "metadata_obj = sqlalchemy.MetaData()\n",
    "\n",
    "table = sqlalchemy.Table(\n",
    "    'test_table',                                        \n",
    "    metadata_obj,                                    \n",
    "    sqlalchemy.Column('index', sqlalchemy.Integer),\n",
    "    sqlalchemy.Column('first_id', sqlalchemy.String, primary_key=True),                    \n",
    "    sqlalchemy.Column('second_id', sqlalchemy.String),                \n",
    ")\n",
    "\n",
    "metadata_obj.create_all(engine)"
   ]
  },
  {
   "cell_type": "code",
   "execution_count": null,
   "id": "7cbbaf78",
   "metadata": {
    "scrolled": true
   },
   "outputs": [],
   "source": [
    "no_of_rows = len(main_table)\n",
    "counter = 0\n",
    "\n",
    "for row in range (no_of_rows):\n",
    "    x_to_be_passed = main_table.iloc[counter,0]\n",
    "    y_to_be_passed = main_table.iloc[counter,1]\n",
    "    index_to_be_passed = counter\n",
    "    with engine.connect() as conn:\n",
    "        conn.execute(sqlalchemy.insert(table).\n",
    "                     values\n",
    "                     (index=index_to_be_passed, \n",
    "                      first_id= x_to_be_passed, \n",
    "                      second_id = y_to_be_passed)\n",
    "                    )\n",
    "        conn.commit()\n",
    "    if counter % 1000 == 0:\n",
    "        print (f'Already added {counter} rows')\n",
    "    else:\n",
    "        pass\n",
    "    counter +=1\n",
    "    "
   ]
  },
  {
   "cell_type": "code",
   "execution_count": null,
   "id": "7bd4ada8",
   "metadata": {},
   "outputs": [],
   "source": [
    "dataframe_from_db = pd.read_sql_table(\"test_table\", con=engine.connect())\n",
    "dataframe_from_db.head(20)"
   ]
  },
  {
   "cell_type": "code",
   "execution_count": null,
   "id": "a7d647a5",
   "metadata": {
    "scrolled": true
   },
   "outputs": [],
   "source": [
    "###adding values with session - not yet working\n",
    "\n",
    "import sqlalchemy.orm\n",
    "\n",
    "with sqlalchemy.orm.Session(engine) as session:\n",
    "    no_of_rows = len(main_table)\n",
    "    counter = 0\n",
    "\n",
    "    for row in range (no_of_rows):\n",
    "        x_to_be_passed = main_table.iloc[counter,0]\n",
    "        y_to_be_passed = main_table.iloc[counter,1]\n",
    "        index_to_be_passed = counter\n",
    "        session.add(sqlalchemy.insert(table).\n",
    "                     values\n",
    "                     (index=index_to_be_passed, \n",
    "                      first_id= x_to_be_passed, \n",
    "                      second_id = y_to_be_passed)\n",
    "                    )\n",
    "        if counter % 1000 == 0:\n",
    "            print (f'Already added {counter} rows')\n",
    "        else:\n",
    "            pass\n",
    "        counter +=1\n",
    "    session.commit()"
   ]
  },
  {
   "cell_type": "code",
   "execution_count": null,
   "id": "588fa75d",
   "metadata": {},
   "outputs": [],
   "source": [
    "###experiments with tuple and lists\n",
    "\n",
    "tuple_ex = (0,1,2)\n",
    "tuple_ex2 =({0, 2}, {0, 1})\n",
    "\n",
    "no_of_rows = len(main_table)\n",
    "counter = 0\n",
    "\n",
    "tuple_blank = ()\n",
    "\n",
    "for row in range (100):\n",
    "    x_to_be_passed = main_table.iloc[counter,0]\n",
    "    y_to_be_passed = main_table.iloc[counter,1]\n",
    "    index_to_be_passed = counter\n",
    "    row = (x_to_be_passed,y_to_be_passed,index_to_be_passed)\n",
    "    tuple_blank = tuple_blank + row\n",
    "    counter +=1\n",
    "\n",
    "tuple_blank"
   ]
  },
  {
   "cell_type": "code",
   "execution_count": null,
   "id": "e9d29917",
   "metadata": {},
   "outputs": [],
   "source": []
  },
  {
   "cell_type": "code",
   "execution_count": null,
   "id": "0c0c4099",
   "metadata": {},
   "outputs": [],
   "source": [
    "###not to use\n",
    "\n",
    "with engine.connect() as conn:\n",
    "    conn.execute(sqlalchemy.text(\"CREATE TABLE test_table (index int, x str, y str)\"))  ###first transactional statement\n",
    "    #conn.execute(\n",
    "        #sqlalchemy.text(\"INSERT INTO test_table (x, y) VALUES (:x, :y)\"),\n",
    "        #[{\"x\": 1, \"y\": 1}, {\"x\": 2, \"y\": 4}, {\"x\": 6, \"y\": 8}, {\"x\": 9, \"y\": 10}])\n",
    "    conn.commit()"
   ]
  },
  {
   "cell_type": "code",
   "execution_count": null,
   "id": "42fc8ec8",
   "metadata": {},
   "outputs": [],
   "source": [
    "###to be checked later on - alternative approach\n",
    "\n",
    "no_of_rows = len(main_table)\n",
    "counter = 0\n",
    "\n",
    "index_to_be_passed =\"\"\n",
    "x_to_be_passed =\"\"\n",
    "y_to_be_passed =\"\"\n",
    "\n",
    "for row in range (no_of_rows):\n",
    "    x_to_be_passed = main_table.iloc[counter,0]\n",
    "    y_to_be_passed = main_table.iloc[counter,1]\n",
    "    index_to_be_passed = counter\n",
    "    with engine.connect() as conn:\n",
    "        conn.execute(sqlalchemy.text(\"INSERT INTO test_table (index, x, y) VALUES (:index, :x, :y)\"),[{\"index\": index_to_be_passed, \"x\": x_to_be_passed, \"y\": y_to_be_passed}])\n",
    "        conn.commit()\n",
    "    counter +=1\n",
    "    print (counter)\n",
    "    "
   ]
  }
 ],
 "metadata": {
  "kernelspec": {
   "display_name": "Python 3 (ipykernel)",
   "language": "python",
   "name": "python3"
  },
  "language_info": {
   "codemirror_mode": {
    "name": "ipython",
    "version": 3
   },
   "file_extension": ".py",
   "mimetype": "text/x-python",
   "name": "python",
   "nbconvert_exporter": "python",
   "pygments_lexer": "ipython3",
   "version": "3.11.2"
  }
 },
 "nbformat": 4,
 "nbformat_minor": 5
}
