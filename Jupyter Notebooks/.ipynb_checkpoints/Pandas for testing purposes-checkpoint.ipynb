{
 "cells": [
  {
   "cell_type": "code",
   "execution_count": null,
   "id": "320872c7",
   "metadata": {},
   "outputs": [],
   "source": [
    "import pandas as pd"
   ]
  },
  {
   "cell_type": "code",
   "execution_count": null,
   "id": "be122c45",
   "metadata": {},
   "outputs": [],
   "source": [
    "main_table = pd.read_excel(r'C:\\Users\\XXX\\excel_file_name.xlsx')"
   ]
  },
  {
   "cell_type": "code",
   "execution_count": null,
   "id": "aba2c1e3",
   "metadata": {},
   "outputs": [],
   "source": [
    "import sqlalchemy\n",
    "engine = sqlalchemy.create_engine(r'sqlite:///C:\\Users\\XXX\\XXX\\XXX\\pandas_database.db')\n",
    "\n",
    "metadata_obj = sqlalchemy.MetaData()\n",
    "\n",
    "table = sqlalchemy.Table(\n",
    "    'test_table',                                        \n",
    "    metadata_obj,                                    \n",
    "    sqlalchemy.Column('index', sqlalchemy.Integer),\n",
    "    sqlalchemy.Column('first_id', sqlalchemy.String, primary_key=True),                    \n",
    "    sqlalchemy.Column('second_id', sqlalchemy.String),                \n",
    ")\n",
    "\n",
    "metadata_obj.create_all(engine)"
   ]
  },
  {
   "cell_type": "code",
   "execution_count": null,
   "id": "7cbbaf78",
   "metadata": {
    "scrolled": true
   },
   "outputs": [],
   "source": [
    "no_of_rows = len(main_table)\n",
    "counter = 0\n",
    "\n",
    "for row in range (no_of_rows):\n",
    "    x_to_be_passed = main_table.iloc[counter,0]\n",
    "    y_to_be_passed = main_table.iloc[counter,1]\n",
    "    index_to_be_passed = counter\n",
    "    with engine.connect() as conn:\n",
    "        conn.execute(sqlalchemy.insert(table).\n",
    "                     values\n",
    "                     (index=index_to_be_passed, \n",
    "                      first_id= x_to_be_passed, \n",
    "                      second_id = y_to_be_passed)\n",
    "                    )\n",
    "        conn.commit()\n",
    "    if counter % 1000 == 0:\n",
    "        print (f'Already added {counter} rows')\n",
    "    else:\n",
    "        pass\n",
    "    counter +=1\n",
    "    "
   ]
  },
  {
   "cell_type": "code",
   "execution_count": null,
   "id": "7bd4ada8",
   "metadata": {},
   "outputs": [],
   "source": [
    "dataframe_from_db = pd.read_sql_table(\"test_table\", con=engine.connect())\n",
    "dataframe_from_db.head(20)"
   ]
  },
  {
   "cell_type": "code",
   "execution_count": null,
   "id": "a7d647a5",
   "metadata": {
    "scrolled": true
   },
   "outputs": [],
   "source": [
    "###adding values with session - not yet working\n",
    "\n",
    "import sqlalchemy.orm\n",
    "\n",
    "with sqlalchemy.orm.Session(engine) as session:\n",
    "    no_of_rows = len(main_table)\n",
    "    counter = 0\n",
    "\n",
    "    for row in range (no_of_rows):\n",
    "        x_to_be_passed = main_table.iloc[counter,0]\n",
    "        y_to_be_passed = main_table.iloc[counter,1]\n",
    "        index_to_be_passed = counter\n",
    "        session.add(sqlalchemy.insert(table).\n",
    "                     values\n",
    "                     (index=index_to_be_passed, \n",
    "                      first_id= x_to_be_passed, \n",
    "                      second_id = y_to_be_passed)\n",
    "                    )\n",
    "        if counter % 1000 == 0:\n",
    "            print (f'Already added {counter} rows')\n",
    "        else:\n",
    "            pass\n",
    "        counter +=1\n",
    "    session.commit()"
   ]
  },
  {
   "cell_type": "code",
   "execution_count": null,
   "id": "588fa75d",
   "metadata": {},
   "outputs": [],
   "source": [
    "###experiments with tuple and lists\n",
    "\n",
    "tuple_ex = (0,1,2)\n",
    "tuple_ex2 =({0, 2}, {0, 1})\n",
    "\n",
    "no_of_rows = len(main_table)\n",
    "counter = 0\n",
    "\n",
    "tuple_blank = ()\n",
    "\n",
    "for row in range (100):\n",
    "    x_to_be_passed = main_table.iloc[counter,0]\n",
    "    y_to_be_passed = main_table.iloc[counter,1]\n",
    "    index_to_be_passed = counter\n",
    "    row = (x_to_be_passed,y_to_be_passed,index_to_be_passed)\n",
    "    tuple_blank = tuple_blank + row\n",
    "    counter +=1\n",
    "\n",
    "tuple_blank"
   ]
  },
  {
   "cell_type": "code",
   "execution_count": 13,
   "id": "0c0c4099",
   "metadata": {},
   "outputs": [
    {
     "name": "stdout",
     "output_type": "stream",
     "text": [
      "{}\n",
      "<class 'dict'>\n",
      "{'ad': None, 'bab': None, 'hsg': None}\n",
      "{'ad': 'New', 'bab': None, 'hsg': None}\n",
      "True\n",
      "False\n",
      "False\n"
     ]
    }
   ],
   "source": [
    "###expertimenting with dictionaries\n",
    "\n",
    "test_dict = {}\n",
    "print (test_dict)\n",
    "\n",
    "#check the data type in dict\n",
    "print (type(test_dict))\n",
    "\n",
    "###create a dict keys from a tuple\n",
    "users_ids = ('ad', 'bab', 'hsg')\n",
    "new_dict = dict.fromkeys(users_ids)\n",
    "print(new_dict)\n",
    "\n",
    "###assign a value to dict\n",
    "new_dict['ad']='New'\n",
    "print(new_dict)\n",
    "\n",
    "###check if 2 dictionaries are equal\n",
    "\n",
    "first_dict = {'a': None, 'b': None}\n",
    "second_dict = {'a': None, 'b': None}\n",
    "third_dict = {'a': 'abc', 'b': None}\n",
    "\n",
    "print (first_dict==second_dict)\n",
    "print (first_dict==third_dict)\n",
    "print (second_dict==third_dict)\n",
    "\n",
    "\n",
    "###experiment with transferring dataframes to dict\n",
    "\n",
    "df = pd.DataFrame({'col1': [1],\n",
    "                  'col2': ['a'],\n",
    "                  'col3': ['DADA']})\n",
    "\n",
    "dictionary = df.to_dict()\n",
    "print(dictionary)\n",
    "\n",
    "new_dict = dict(zip(df.col1, df.col2))\n",
    "print(new_dict)\n",
    "\n",
    "###transpose dataframe - rows with columns and then add it to a dictionary\n",
    "df_transposed = df.T  # or df1.transpose()\n",
    "df_transposed = df_transposed.rename(columns={0:'First_column'})\n",
    "df_transposed\n",
    "transposed_dict = dict(zip(df_transposed.index, df_transposed.First_column))\n",
    "print(transposed_dict)\n"
   ]
  },
  {
   "cell_type": "code",
   "execution_count": null,
   "id": "31fa7692",
   "metadata": {},
   "outputs": [],
   "source": []
  }
 ],
 "metadata": {
  "kernelspec": {
   "display_name": "Python 3 (ipykernel)",
   "language": "python",
   "name": "python3"
  },
  "language_info": {
   "codemirror_mode": {
    "name": "ipython",
    "version": 3
   },
   "file_extension": ".py",
   "mimetype": "text/x-python",
   "name": "python",
   "nbconvert_exporter": "python",
   "pygments_lexer": "ipython3",
   "version": "3.11.2"
  }
 },
 "nbformat": 4,
 "nbformat_minor": 5
}
